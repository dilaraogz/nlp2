{
 "cells": [
  {
   "cell_type": "markdown",
   "id": "3e72269f-5ff7-423e-a9d8-d34fa70be2c0",
   "metadata": {},
   "source": [
    "#ÖN İŞLEM"
   ]
  },
  {
   "cell_type": "code",
   "execution_count": 101,
   "id": "a9e0ac7a-0ef9-4408-a6b9-0d4403dd8e62",
   "metadata": {},
   "outputs": [],
   "source": [
    "text = open(\"data/nlp.txt\",\"r\")\n",
    "nlp=text.read()\n",
    "#text dosyalarının okunması"
   ]
  },
  {
   "cell_type": "code",
   "execution_count": 102,
   "id": "da9fede1-afce-45e0-93d8-fcbbe1c43108",
   "metadata": {},
   "outputs": [
    {
     "data": {
      "text/plain": [
       "'NLP yani DoÄŸal Dil Ä°ÅŸleme, doÄŸal dillerin kurallÄ± yapÄ±sÄ±nÄ±n Ã§Ã¶zÃ¼mlenerek anlaÅŸÄ±lmasÄ± veya yeniden Ã¼retilmesi amacÄ±nÄ± taÅŸÄ±r.Bu Ã§Ã¶zÃ¼mlemenin insana getireceÄŸi kolaylÄ±klar, yazÄ±lÄ± dokÃ¼manlarÄ±n otomatik Ã§evrilmesi, soru-cevap makineleri, otomatik konuÅŸma ve komut anlama, konuÅŸma sentezi, konuÅŸma Ã¼retme, otomatik metin Ã¶zetleme, bilgi saÄŸlama gibi birÃ§ok baÅŸlÄ±kla Ã¶zetlenebilir. Bilgisayar teknolojisinin yaygÄ±n kullanÄ±mÄ±, bu baÅŸlÄ±klardan Ã¼retilen uzman yazÄ±lÄ±mlarÄ±n gÃ¼ndelik hayatÄ±mÄ±zÄ±n her alanÄ±na girmesini saÄŸlamÄ±ÅŸtÄ±r. Ã–rneÄŸin, tÃ¼m kelime iÅŸlem yazÄ±lÄ±mlarÄ± birer imlÃ¢ dÃ¼zeltme aracÄ± taÅŸÄ±r. Bu araÃ§lar aslÄ±nda yazÄ±lan metni Ã§Ã¶zÃ¼mleyerek dil kurallarÄ±nÄ± denetleyen doÄŸal dil iÅŸleme yazÄ±lÄ±mlarÄ±dÄ±r.'"
      ]
     },
     "execution_count": 102,
     "metadata": {},
     "output_type": "execute_result"
    }
   ],
   "source": [
    "nlp"
   ]
  },
  {
   "cell_type": "code",
   "execution_count": 103,
   "id": "af6c3144-163b-4fee-ae71-5c62ebc9fd25",
   "metadata": {},
   "outputs": [],
   "source": [
    "import pandas as pd"
   ]
  },
  {
   "cell_type": "code",
   "execution_count": 104,
   "id": "4bafe80d-481f-4cd8-b3c4-97ce7cbff3bd",
   "metadata": {},
   "outputs": [],
   "source": [
    "df=pd.read_csv(\"data/nlp.csv\",index_col=0)"
   ]
  },
  {
   "cell_type": "code",
   "execution_count": 105,
   "id": "453244ec-791e-4644-ba46-5ead2c79da0e",
   "metadata": {},
   "outputs": [
    {
     "data": {
      "text/html": [
       "<div>\n",
       "<style scoped>\n",
       "    .dataframe tbody tr th:only-of-type {\n",
       "        vertical-align: middle;\n",
       "    }\n",
       "\n",
       "    .dataframe tbody tr th {\n",
       "        vertical-align: top;\n",
       "    }\n",
       "\n",
       "    .dataframe thead th {\n",
       "        text-align: right;\n",
       "    }\n",
       "</style>\n",
       "<table border=\"1\" class=\"dataframe\">\n",
       "  <thead>\n",
       "    <tr style=\"text-align: right;\">\n",
       "      <th></th>\n",
       "      <th>Text</th>\n",
       "    </tr>\n",
       "  </thead>\n",
       "  <tbody>\n",
       "    <tr>\n",
       "      <th>0</th>\n",
       "      <td>Yapay Zeka Nedir, Ne İşe Yarar?\\n\\nYapay zeka ...</td>\n",
       "    </tr>\n",
       "    <tr>\n",
       "      <th>1</th>\n",
       "      <td>🔎 Verilerinizi analiz edin: \\nChatGPT'yi kulla...</td>\n",
       "    </tr>\n",
       "    <tr>\n",
       "      <th>2</th>\n",
       "      <td>Öncelikle yapay zekanın ne olduğunu, #dijitala...</td>\n",
       "    </tr>\n",
       "    <tr>\n",
       "      <th>3</th>\n",
       "      <td>9. Baidu Research: Çin'in önde gelen arama mot...</td>\n",
       "    </tr>\n",
       "    <tr>\n",
       "      <th>4</th>\n",
       "      <td>4. Microsoft AI: Microsoft'un yapay zeka tekno...</td>\n",
       "    </tr>\n",
       "    <tr>\n",
       "      <th>...</th>\n",
       "      <td>...</td>\n",
       "    </tr>\n",
       "    <tr>\n",
       "      <th>853</th>\n",
       "      <td>doğal dil işleme alanında yüksek lisans-doktor...</td>\n",
       "    </tr>\n",
       "    <tr>\n",
       "      <th>854</th>\n",
       "      <td>dogal dil isleme şeyleri</td>\n",
       "    </tr>\n",
       "    <tr>\n",
       "      <th>855</th>\n",
       "      <td>Bir veri madenciliği ve doğal dil işleme uygul...</td>\n",
       "    </tr>\n",
       "    <tr>\n",
       "      <th>856</th>\n",
       "      <td>\"Doğal dil işleme\" ile ilgili deneyimi olan ya...</td>\n",
       "    </tr>\n",
       "    <tr>\n",
       "      <th>857</th>\n",
       "      <td>Haftaya öğrencilik hayatıma kaldığım yerden de...</td>\n",
       "    </tr>\n",
       "  </tbody>\n",
       "</table>\n",
       "<p>858 rows × 1 columns</p>\n",
       "</div>"
      ],
      "text/plain": [
       "                                                  Text\n",
       "0    Yapay Zeka Nedir, Ne İşe Yarar?\\n\\nYapay zeka ...\n",
       "1    🔎 Verilerinizi analiz edin: \\nChatGPT'yi kulla...\n",
       "2    Öncelikle yapay zekanın ne olduğunu, #dijitala...\n",
       "3    9. Baidu Research: Çin'in önde gelen arama mot...\n",
       "4    4. Microsoft AI: Microsoft'un yapay zeka tekno...\n",
       "..                                                 ...\n",
       "853  doğal dil işleme alanında yüksek lisans-doktor...\n",
       "854                           dogal dil isleme şeyleri\n",
       "855  Bir veri madenciliği ve doğal dil işleme uygul...\n",
       "856  \"Doğal dil işleme\" ile ilgili deneyimi olan ya...\n",
       "857  Haftaya öğrencilik hayatıma kaldığım yerden de...\n",
       "\n",
       "[858 rows x 1 columns]"
      ]
     },
     "execution_count": 105,
     "metadata": {},
     "output_type": "execute_result"
    }
   ],
   "source": [
    "df"
   ]
  },
  {
   "cell_type": "code",
   "execution_count": 106,
   "id": "44b23c54-8759-48dc-b927-a9bb6a1d95f5",
   "metadata": {},
   "outputs": [
    {
     "data": {
      "text/html": [
       "<div>\n",
       "<style scoped>\n",
       "    .dataframe tbody tr th:only-of-type {\n",
       "        vertical-align: middle;\n",
       "    }\n",
       "\n",
       "    .dataframe tbody tr th {\n",
       "        vertical-align: top;\n",
       "    }\n",
       "\n",
       "    .dataframe thead th {\n",
       "        text-align: right;\n",
       "    }\n",
       "</style>\n",
       "<table border=\"1\" class=\"dataframe\">\n",
       "  <thead>\n",
       "    <tr style=\"text-align: right;\">\n",
       "      <th></th>\n",
       "      <th>Text</th>\n",
       "    </tr>\n",
       "  </thead>\n",
       "  <tbody>\n",
       "    <tr>\n",
       "      <th>0</th>\n",
       "      <td>Yapay Zeka Nedir, Ne İşe Yarar?\\n\\nYapay zeka ...</td>\n",
       "    </tr>\n",
       "    <tr>\n",
       "      <th>1</th>\n",
       "      <td>🔎 Verilerinizi analiz edin: \\nChatGPT'yi kulla...</td>\n",
       "    </tr>\n",
       "    <tr>\n",
       "      <th>2</th>\n",
       "      <td>Öncelikle yapay zekanın ne olduğunu, #dijitala...</td>\n",
       "    </tr>\n",
       "    <tr>\n",
       "      <th>3</th>\n",
       "      <td>9. Baidu Research: Çin'in önde gelen arama mot...</td>\n",
       "    </tr>\n",
       "    <tr>\n",
       "      <th>4</th>\n",
       "      <td>4. Microsoft AI: Microsoft'un yapay zeka tekno...</td>\n",
       "    </tr>\n",
       "  </tbody>\n",
       "</table>\n",
       "</div>"
      ],
      "text/plain": [
       "                                                Text\n",
       "0  Yapay Zeka Nedir, Ne İşe Yarar?\\n\\nYapay zeka ...\n",
       "1  🔎 Verilerinizi analiz edin: \\nChatGPT'yi kulla...\n",
       "2  Öncelikle yapay zekanın ne olduğunu, #dijitala...\n",
       "3  9. Baidu Research: Çin'in önde gelen arama mot...\n",
       "4  4. Microsoft AI: Microsoft'un yapay zeka tekno..."
      ]
     },
     "execution_count": 106,
     "metadata": {},
     "output_type": "execute_result"
    }
   ],
   "source": [
    "df.head()"
   ]
  },
  {
   "cell_type": "code",
   "execution_count": 107,
   "id": "11871010-5ea3-409a-9dcb-56ee14a55471",
   "metadata": {},
   "outputs": [
    {
     "data": {
      "text/plain": [
       "'dilaraa '"
      ]
     },
     "execution_count": 107,
     "metadata": {},
     "output_type": "execute_result"
    }
   ],
   "source": [
    "#sayısal değerlerin kaldırılması\n",
    "def remove_numeric(value):\n",
    "    bfr=[item for item in value if not item.isdigit()]\n",
    "    bfr=\"\".join(bfr)\n",
    "    return bfr\n",
    "text = \"dilaraa 1234\"\n",
    "remove_numeric(text)\n",
    "    "
   ]
  },
  {
   "cell_type": "code",
   "execution_count": 108,
   "id": "07d9de4d-2e83-4fee-8da2-1e4c85a75842",
   "metadata": {},
   "outputs": [
    {
     "data": {
      "text/plain": [
       "'dilaraa '"
      ]
     },
     "execution_count": 108,
     "metadata": {},
     "output_type": "execute_result"
    }
   ],
   "source": [
    "#emojilerin kaldırılması\n",
    "import re \n",
    "def remove_emoji(value):\n",
    "    bfr=re.compile(\"[\\U00010000-\\U0010fffF]\",flags=re.UNICODE)\n",
    "    bfr=bfr.sub(r'',value)\n",
    "    return bfr\n",
    "text=\"dilaraa 🔎\"\n",
    "remove_emoji(text)\n",
    "\n"
   ]
  },
  {
   "cell_type": "code",
   "execution_count": 109,
   "id": "730cfe6a-9a55-4804-94af-ec637e43d2bb",
   "metadata": {},
   "outputs": [
    {
     "data": {
      "text/plain": [
       "'dilara'"
      ]
     },
     "execution_count": 109,
     "metadata": {},
     "output_type": "execute_result"
    }
   ],
   "source": [
    "#tek karakterli ifadelerin kaldırılması\n",
    "def remove_single_character(value):\n",
    "     return re.sub(r'(?:^| )\\w(?:$| )','',value)\n",
    "\n",
    "text=\"dilara d\"\n",
    "remove_single_character(text)"
   ]
  },
  {
   "cell_type": "code",
   "execution_count": 110,
   "id": "1fbeabae-3847-4f31-a4c0-109eac94de3c",
   "metadata": {},
   "outputs": [
    {
     "data": {
      "text/plain": [
       "'dilara '"
      ]
     },
     "execution_count": 110,
     "metadata": {},
     "output_type": "execute_result"
    }
   ],
   "source": [
    "#noktalama ifadelerinin kaldırılması\n",
    "def remove_noktalama(value):\n",
    "    return re.sub(r'[^\\w\\s]', '', value)\n",
    "\n",
    "text =\"dilara .\"\n",
    "remove_noktalama(text)\n"
   ]
  },
  {
   "cell_type": "code",
   "execution_count": 111,
   "id": "695b0124-57ba-4aac-bd30-36ec84da4fda",
   "metadata": {},
   "outputs": [
    {
     "data": {
      "text/plain": [
       "'dilara '"
      ]
     },
     "execution_count": 111,
     "metadata": {},
     "output_type": "execute_result"
    }
   ],
   "source": [
    "#linkleri kaldırma \n",
    "def remove_link(value):\n",
    "    return re.sub(r'http\\S+|www\\S+', '', value)\n",
    "\n",
    "text = \"dilara https://www.yandex.com.tr/search/?text=dik+%C3%A7izgi&clid=2411726&lr=11504\"\n",
    "remove_link(text)"
   ]
  },
  {
   "cell_type": "code",
   "execution_count": 112,
   "id": "7071c53f-bf84-49a7-ae47-1e38a836ac2e",
   "metadata": {},
   "outputs": [
    {
     "data": {
      "text/plain": [
       "'dilara '"
      ]
     },
     "execution_count": 112,
     "metadata": {},
     "output_type": "execute_result"
    }
   ],
   "source": [
    "#hashtagleri kaldırma \n",
    "def remove_hashtag(value):\n",
    "    return re.sub(r'#\\w+', '', value)\n",
    "\n",
    "text =\"dilara #nlp\"\n",
    "remove_hashtag(text)"
   ]
  },
  {
   "cell_type": "code",
   "execution_count": 113,
   "id": "846b461e-422f-4036-9220-55f3ea4c4a34",
   "metadata": {},
   "outputs": [
    {
     "data": {
      "text/plain": [
       "'dilara '"
      ]
     },
     "execution_count": 113,
     "metadata": {},
     "output_type": "execute_result"
    }
   ],
   "source": [
    "#kullanıcı adlarınının kaldırılması\n",
    "def remove_username(value):\n",
    "    return re.sub(r'@\\w+', '',value )\n",
    "\n",
    "text =\"dilara @oğuz\"\n",
    "remove_username(text)"
   ]
  },
  {
   "cell_type": "code",
   "execution_count": 114,
   "id": "aa6cf3d3-acab-4e75-b229-b4485ec7bd12",
   "metadata": {},
   "outputs": [],
   "source": [
    "#köke indirgeme\n",
    "import snowballstemmer"
   ]
  },
  {
   "cell_type": "code",
   "execution_count": 115,
   "id": "6fb98e33-f0f6-4b65-ae8b-fdf10c1754e6",
   "metadata": {},
   "outputs": [
    {
     "data": {
      "text/plain": [
       "'bugu çok yorgu'"
      ]
     },
     "execution_count": 115,
     "metadata": {},
     "output_type": "execute_result"
    }
   ],
   "source": [
    "\n",
    "def stem_word(value):\n",
    "   \n",
    "     stemmer=snowballstemmer.stemmer(\"turkish\")#tüekçe kullanım için\n",
    "     value=value.lower() #küçük harfe çevirmek için\n",
    "     value=stemmer.stemWords(value.split())\n",
    "     stop_words = [\"acaba\", \"ama\", \"aslında\", \"az\", \"bazı\", \"belki\", \"ben\", \"biri\", \"birkaç\", \"birşey\", \"biz\", \"bu\", \n",
    "        \"çok\",\"çünkü\", \"da\", \"daha\", \"de\", \"defa\", \"diye\", \"eğer\"\n",
    "        \"en\", \"gibi\", \"hem\", \"hep\", \"hepsi\", \"her\", \"hiç\", \"için\", \"ile\", \"ise\", \n",
    "        \"kez\", \"ki\", \"kim\", \"mı\", \"mu\", \"mü\", \"nasıl\", \"ne\", \"neden\",\n",
    "        \"nerde\", \"nerede\", \"nereye\", \"niçin\", \"niye\", \"o\", \"sanki\", \"şey\", \"siz\", \"şu\", \n",
    "        \"tüm\", \"ve\", \"veya\", \"ya\", \"yani\",\n",
    "        \"bir\",\"iki\",\"üç\",\"dört\",\"beş\",\"altı\",\"yedi\",\"sekiz\",\"dokuz\",\"on\"]\n",
    "     value=' '.join(value)\n",
    "     return value\n",
    "\n",
    "text= \"bugün çok yorgunum\"\n",
    "stem_word(text)"
   ]
  },
  {
   "cell_type": "code",
   "execution_count": 122,
   "id": "6bf6ea25-f21e-43df-963f-fb7fdb8e94bb",
   "metadata": {},
   "outputs": [],
   "source": [
    "#Tüm fonksiyonları çalıştırma\n",
    "def pre_processing(value):\n",
    "    return [remove_numeric(remove_emoji\n",
    "                          (remove_single_character\n",
    "                           (remove_noktalama\n",
    "                            (remove_link\n",
    "                             (remove_hashtag\n",
    "                              (remove_username\n",
    "                               (stem_word(word)\n",
    "                               ))))))) for word in value.split()]\n"
   ]
  },
  {
   "cell_type": "code",
   "execution_count": 123,
   "id": "ea78cf60-4888-4afa-8ca8-757bf201dd3f",
   "metadata": {},
   "outputs": [
    {
     "data": {
      "text/html": [
       "<div>\n",
       "<style scoped>\n",
       "    .dataframe tbody tr th:only-of-type {\n",
       "        vertical-align: middle;\n",
       "    }\n",
       "\n",
       "    .dataframe tbody tr th {\n",
       "        vertical-align: top;\n",
       "    }\n",
       "\n",
       "    .dataframe thead th {\n",
       "        text-align: right;\n",
       "    }\n",
       "</style>\n",
       "<table border=\"1\" class=\"dataframe\">\n",
       "  <thead>\n",
       "    <tr style=\"text-align: right;\">\n",
       "      <th></th>\n",
       "      <th>Text</th>\n",
       "      <th>Text_2</th>\n",
       "    </tr>\n",
       "  </thead>\n",
       "  <tbody>\n",
       "    <tr>\n",
       "      <th>0</th>\n",
       "      <td>Yapay Zeka Nedir, Ne İşe Yarar?\\n\\nYapay zeka ...</td>\n",
       "      <td>[yapay, zeka, nedir, ne, işe, yarar, yapay, ze...</td>\n",
       "    </tr>\n",
       "    <tr>\n",
       "      <th>1</th>\n",
       "      <td>🔎 Verilerinizi analiz edin: \\nChatGPT'yi kulla...</td>\n",
       "      <td>[, veri, analiz, edin, chatgptyi, kullanarak, ...</td>\n",
       "    </tr>\n",
       "    <tr>\n",
       "      <th>2</th>\n",
       "      <td>Öncelikle yapay zekanın ne olduğunu, #dijitala...</td>\n",
       "      <td>[öncelik, yapay, zeka, ne, olduğunu, , iç, ne,...</td>\n",
       "    </tr>\n",
       "    <tr>\n",
       "      <th>3</th>\n",
       "      <td>9. Baidu Research: Çin'in önde gelen arama mot...</td>\n",
       "      <td>[, baidu, research, çin, ön, gele, ara, motor,...</td>\n",
       "    </tr>\n",
       "    <tr>\n",
       "      <th>4</th>\n",
       "      <td>4. Microsoft AI: Microsoft'un yapay zeka tekno...</td>\n",
       "      <td>[, microsoft, ai, microsoft, yapay, zeka, tekn...</td>\n",
       "    </tr>\n",
       "  </tbody>\n",
       "</table>\n",
       "</div>"
      ],
      "text/plain": [
       "                                                Text   \n",
       "0  Yapay Zeka Nedir, Ne İşe Yarar?\\n\\nYapay zeka ...  \\\n",
       "1  🔎 Verilerinizi analiz edin: \\nChatGPT'yi kulla...   \n",
       "2  Öncelikle yapay zekanın ne olduğunu, #dijitala...   \n",
       "3  9. Baidu Research: Çin'in önde gelen arama mot...   \n",
       "4  4. Microsoft AI: Microsoft'un yapay zeka tekno...   \n",
       "\n",
       "                                              Text_2  \n",
       "0  [yapay, zeka, nedir, ne, işe, yarar, yapay, ze...  \n",
       "1  [, veri, analiz, edin, chatgptyi, kullanarak, ...  \n",
       "2  [öncelik, yapay, zeka, ne, olduğunu, , iç, ne,...  \n",
       "3  [, baidu, research, çin, ön, gele, ara, motor,...  \n",
       "4  [, microsoft, ai, microsoft, yapay, zeka, tekn...  "
      ]
     },
     "execution_count": 123,
     "metadata": {},
     "output_type": "execute_result"
    }
   ],
   "source": [
    "df[\"Text_2\"]=df[\"Text\"].apply(pre_processing) #data frame içerinde fordan çok daha hızlı şekilde döner\n",
    "df.head()"
   ]
  },
  {
   "cell_type": "code",
   "execution_count": 124,
   "id": "eaaf4af2-933b-4c08-8cd8-6466407f5916",
   "metadata": {},
   "outputs": [
    {
     "data": {
      "text/plain": [
       "['yapay',\n",
       " 'zeka',\n",
       " 'nedir',\n",
       " 'ne',\n",
       " 'işe',\n",
       " 'yarar',\n",
       " 'yapay',\n",
       " 'zeka',\n",
       " 'yz',\n",
       " 'bilgisayar',\n",
       " 've',\n",
       " 'diğer',\n",
       " 'cihazların',\n",
       " 'in',\n",
       " 'zeka',\n",
       " 'benzer',\n",
       " 'şekil',\n",
       " 'düşünmesini',\n",
       " 'öğrenmesini',\n",
       " 'karar',\n",
       " 'verme',\n",
       " 've',\n",
       " 'proble',\n",
       " 'çözme',\n",
       " 'sağlaya',\n",
       " 'bir',\n",
       " 'bil',\n",
       " 'dalıdır',\n",
       " 'yapay',\n",
       " 'zeka',\n",
       " 'teknolojisi',\n",
       " 'doğal',\n",
       " 'dil',\n",
       " 'işleme',\n",
       " 'ses',\n",
       " 'tanıma',\n",
       " 'gör',\n",
       " 'işleme']"
      ]
     },
     "execution_count": 124,
     "metadata": {},
     "output_type": "execute_result"
    }
   ],
   "source": [
    "\n",
    "#boslukların kaldırılması\n",
    "def remove_space(value):\n",
    "    return[item for item in value if item.strip()]\n",
    "\n",
    "df[\"Text_2\"]=df[\"Text_2\"].apply(remove_space)\n",
    "df.loc[0,\"Text_2\"]"
   ]
  },
  {
   "cell_type": "code",
   "execution_count": 136,
   "id": "cb14ae13-39b3-494d-9729-cdcbc31981b2",
   "metadata": {},
   "outputs": [],
   "source": [
    "import on_islem\n",
    "import pandas as pd"
   ]
  },
  {
   "cell_type": "code",
   "execution_count": 137,
   "id": "c645ddad-cddf-42a8-b5f6-ef4a9a7efacd",
   "metadata": {},
   "outputs": [
    {
     "data": {
      "text/html": [
       "<div>\n",
       "<style scoped>\n",
       "    .dataframe tbody tr th:only-of-type {\n",
       "        vertical-align: middle;\n",
       "    }\n",
       "\n",
       "    .dataframe tbody tr th {\n",
       "        vertical-align: top;\n",
       "    }\n",
       "\n",
       "    .dataframe thead th {\n",
       "        text-align: right;\n",
       "    }\n",
       "</style>\n",
       "<table border=\"1\" class=\"dataframe\">\n",
       "  <thead>\n",
       "    <tr style=\"text-align: right;\">\n",
       "      <th></th>\n",
       "      <th>Text</th>\n",
       "    </tr>\n",
       "  </thead>\n",
       "  <tbody>\n",
       "    <tr>\n",
       "      <th>0</th>\n",
       "      <td>Yapay Zeka Nedir, Ne İşe Yarar?\\n\\nYapay zeka ...</td>\n",
       "    </tr>\n",
       "    <tr>\n",
       "      <th>1</th>\n",
       "      <td>🔎 Verilerinizi analiz edin: \\nChatGPT'yi kulla...</td>\n",
       "    </tr>\n",
       "    <tr>\n",
       "      <th>2</th>\n",
       "      <td>Öncelikle yapay zekanın ne olduğunu, #dijitala...</td>\n",
       "    </tr>\n",
       "    <tr>\n",
       "      <th>3</th>\n",
       "      <td>9. Baidu Research: Çin'in önde gelen arama mot...</td>\n",
       "    </tr>\n",
       "    <tr>\n",
       "      <th>4</th>\n",
       "      <td>4. Microsoft AI: Microsoft'un yapay zeka tekno...</td>\n",
       "    </tr>\n",
       "  </tbody>\n",
       "</table>\n",
       "</div>"
      ],
      "text/plain": [
       "                                                Text\n",
       "0  Yapay Zeka Nedir, Ne İşe Yarar?\\n\\nYapay zeka ...\n",
       "1  🔎 Verilerinizi analiz edin: \\nChatGPT'yi kulla...\n",
       "2  Öncelikle yapay zekanın ne olduğunu, #dijitala...\n",
       "3  9. Baidu Research: Çin'in önde gelen arama mot...\n",
       "4  4. Microsoft AI: Microsoft'un yapay zeka tekno..."
      ]
     },
     "execution_count": 137,
     "metadata": {},
     "output_type": "execute_result"
    }
   ],
   "source": [
    "df= pd.read_csv(\"data/nlp.csv\",index_col=0)\n",
    "df.head()"
   ]
  },
  {
   "cell_type": "code",
   "execution_count": 138,
   "id": "ec8f5c61-7820-4f63-ad8f-938ac36606a2",
   "metadata": {},
   "outputs": [
    {
     "data": {
      "text/html": [
       "<div>\n",
       "<style scoped>\n",
       "    .dataframe tbody tr th:only-of-type {\n",
       "        vertical-align: middle;\n",
       "    }\n",
       "\n",
       "    .dataframe tbody tr th {\n",
       "        vertical-align: top;\n",
       "    }\n",
       "\n",
       "    .dataframe thead th {\n",
       "        text-align: right;\n",
       "    }\n",
       "</style>\n",
       "<table border=\"1\" class=\"dataframe\">\n",
       "  <thead>\n",
       "    <tr style=\"text-align: right;\">\n",
       "      <th></th>\n",
       "      <th>Text</th>\n",
       "      <th>Text_2</th>\n",
       "    </tr>\n",
       "  </thead>\n",
       "  <tbody>\n",
       "    <tr>\n",
       "      <th>0</th>\n",
       "      <td>Yapay Zeka Nedir, Ne İşe Yarar?\\n\\nYapay zeka ...</td>\n",
       "      <td>[yapay, zeka, nedir, ne, işe, yarar, yapay, ze...</td>\n",
       "    </tr>\n",
       "    <tr>\n",
       "      <th>1</th>\n",
       "      <td>🔎 Verilerinizi analiz edin: \\nChatGPT'yi kulla...</td>\n",
       "      <td>[veri, analiz, edin, chatgptyi, kullanarak, do...</td>\n",
       "    </tr>\n",
       "    <tr>\n",
       "      <th>2</th>\n",
       "      <td>Öncelikle yapay zekanın ne olduğunu, #dijitala...</td>\n",
       "      <td>[öncelik, yapay, zeka, ne, olduğunu, iç, ne, ö...</td>\n",
       "    </tr>\n",
       "    <tr>\n",
       "      <th>3</th>\n",
       "      <td>9. Baidu Research: Çin'in önde gelen arama mot...</td>\n",
       "      <td>[baidu, research, çin, ön, gele, ara, motor, b...</td>\n",
       "    </tr>\n",
       "    <tr>\n",
       "      <th>4</th>\n",
       "      <td>4. Microsoft AI: Microsoft'un yapay zeka tekno...</td>\n",
       "      <td>[microsoft, ai, microsoft, yapay, zeka, teknol...</td>\n",
       "    </tr>\n",
       "  </tbody>\n",
       "</table>\n",
       "</div>"
      ],
      "text/plain": [
       "                                                Text   \n",
       "0  Yapay Zeka Nedir, Ne İşe Yarar?\\n\\nYapay zeka ...  \\\n",
       "1  🔎 Verilerinizi analiz edin: \\nChatGPT'yi kulla...   \n",
       "2  Öncelikle yapay zekanın ne olduğunu, #dijitala...   \n",
       "3  9. Baidu Research: Çin'in önde gelen arama mot...   \n",
       "4  4. Microsoft AI: Microsoft'un yapay zeka tekno...   \n",
       "\n",
       "                                              Text_2  \n",
       "0  [yapay, zeka, nedir, ne, işe, yarar, yapay, ze...  \n",
       "1  [veri, analiz, edin, chatgptyi, kullanarak, do...  \n",
       "2  [öncelik, yapay, zeka, ne, olduğunu, iç, ne, ö...  \n",
       "3  [baidu, research, çin, ön, gele, ara, motor, b...  \n",
       "4  [microsoft, ai, microsoft, yapay, zeka, teknol...  "
      ]
     },
     "execution_count": 138,
     "metadata": {},
     "output_type": "execute_result"
    }
   ],
   "source": [
    "df[\"Text_2\"]=df[\"Text\"].apply(on_islem.pre_processing)\n",
    "df[\"Text_2\"]=df[\"Text_2\"].apply(on_islem.remove_space)\n",
    "df.head()"
   ]
  },
  {
   "cell_type": "code",
   "execution_count": null,
   "id": "c26fe0ce-d54c-4396-9021-6e8842578747",
   "metadata": {},
   "outputs": [],
   "source": []
  }
 ],
 "metadata": {
  "kernelspec": {
   "display_name": "Python 3 (ipykernel)",
   "language": "python",
   "name": "python3"
  },
  "language_info": {
   "codemirror_mode": {
    "name": "ipython",
    "version": 3
   },
   "file_extension": ".py",
   "mimetype": "text/x-python",
   "name": "python",
   "nbconvert_exporter": "python",
   "pygments_lexer": "ipython3",
   "version": "3.10.10"
  }
 },
 "nbformat": 4,
 "nbformat_minor": 5
}
