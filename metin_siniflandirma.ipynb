{
 "cells": [
  {
   "cell_type": "markdown",
   "id": "1db4dac9-5080-4779-8f0a-e7f08981d48e",
   "metadata": {},
   "source": [
    "Metin Sınıflandırma"
   ]
  },
  {
   "cell_type": "code",
   "execution_count": null,
   "id": "50ae4867-58c6-4917-8836-de99873e9936",
   "metadata": {},
   "outputs": [],
   "source": [
    "import pandas as pd\n",
    "import matplotlib.pyplot as plt\n",
    "import on_islem\n",
    "from sklearn.model_selection import train_test_split\n",
    "from sklearn.svm import LinearSVC\n",
    "from sklearn.pipeline import Pipeline\n",
    "from sklearn.feature_extraction.text import TfidfVectorizer\n",
    "from sklearn.metrics import f1_score, accuracy_score, ConfusionMatrixDisplay, confusion_matrix\n",
    "from gensim.models import Word2Vec\n",
    "from sklearn.neighbors import KNeighborsClassifier"
   ]
  },
  {
   "cell_type": "code",
   "execution_count": null,
   "id": "8b0261ca-db09-4984-b71c-38ea80439fd9",
   "metadata": {},
   "outputs": [],
   "source": [
    "df = pd.read_csv(\"data/metin_siniflandirma.csv\", index_col=0)\n",
    "df[\"Text_2\"] = df[\"Text\"].apply(on_islem.pre_processing)\n",
    "df[\"Text_2\"] = df[\"Text_2\"].apply(on_islem.remove_space)\n",
    "df[\"Text_3\"] = [' '.join(wrd for wrd in x)for x in df[\"Text_2\"]]\n",
    "\n",
    "df_index = df[df[\"Text_2\"].str[0].isnull()].index\n",
    "df = df.drop(df_index)\n",
    "df = df.reset_index()\n",
    "del df[\"index\"]\n",
    "df.head()"
   ]
  },
  {
   "cell_type": "code",
   "execution_count": null,
   "id": "78049b81-5d6b-4f18-ac02-1f5a667fcd2d",
   "metadata": {},
   "outputs": [],
   "source": [
    "df.groupby(\"Label\").size()"
   ]
  },
  {
   "cell_type": "code",
   "execution_count": null,
   "id": "24d7e26c-5898-4a23-926d-34b7eac6e62b",
   "metadata": {},
   "outputs": [],
   "source": [
    "from sklearn.model_selection import train_test_split"
   ]
  },
  {
   "cell_type": "code",
   "execution_count": null,
   "id": "baeecac3-0faf-43aa-94b4-97308fb9040f",
   "metadata": {},
   "outputs": [],
   "source": [
    "msg_train,msg_test,label_train,label_test =train_test_split(df[\"Text_3\"].tolist(), df[\"Label\"].tolist(), test_size=0.2, random_state=42)"
   ]
  },
  {
   "cell_type": "code",
   "execution_count": null,
   "id": "80a1479b-e925-4b07-b213-3559dd04006e",
   "metadata": {},
   "outputs": [],
   "source": [
    "len(msg_test)"
   ]
  },
  {
   "cell_type": "code",
   "execution_count": null,
   "id": "58ef6c8e-c93d-42df-9fac-a2849c0cc40a",
   "metadata": {},
   "outputs": [],
   "source": [
    "len(msg_train)\n"
   ]
  },
  {
   "cell_type": "code",
   "execution_count": null,
   "id": "3353a642-4ef8-428f-984f-de2870640bb4",
   "metadata": {},
   "outputs": [],
   "source": [
    "len(label_train)"
   ]
  },
  {
   "cell_type": "code",
   "execution_count": null,
   "id": "acc9ce15-4713-41f0-966c-21490ad1a602",
   "metadata": {},
   "outputs": [],
   "source": [
    "len(label_test)"
   ]
  },
  {
   "cell_type": "code",
   "execution_count": null,
   "id": "b8996713-f977-4b8b-a42c-b65773e33c06",
   "metadata": {},
   "outputs": [],
   "source": [
    "df_test = pd.DataFrame({\"Text\":msg_test, \"Label\":label_test})\n",
    "df_test.groupby(\"Label\").size()"
   ]
  },
  {
   "cell_type": "code",
   "execution_count": null,
   "id": "e9a306a1-33c9-4299-95d5-8c4fe98ccf95",
   "metadata": {},
   "outputs": [],
   "source": [
    "from sklearn.feature_extraction.text import TfidfVectorizer\n",
    "from sklearn.svm import LinearSVC\n",
    "from sklearn.pipeline import Pipeline"
   ]
  },
  {
   "cell_type": "code",
   "execution_count": null,
   "id": "22b8a22e-19bb-4e15-bd84-07a0c6e18a10",
   "metadata": {},
   "outputs": [],
   "source": [
    "svm = Pipeline([('vect', TfidfVectorizer()), ('svm', LinearSVC())])"
   ]
  },
  {
   "cell_type": "code",
   "execution_count": null,
   "id": "a5220cbe-85e9-45c8-8923-e4b28417e40a",
   "metadata": {},
   "outputs": [],
   "source": [
    "svm.fit(msg_train,label_train)\n",
    "y_pred_class=svm.predict(msg_test)\n"
   ]
  },
  {
   "cell_type": "code",
   "execution_count": null,
   "id": "ab6b9a0c-4779-4c78-bf69-8eeecc33fe3c",
   "metadata": {},
   "outputs": [],
   "source": [
    "from sklearn.metrics import f1_score,accuracy_score"
   ]
  },
  {
   "cell_type": "code",
   "execution_count": null,
   "id": "34c9a44c-6156-475f-9556-ed43208978ab",
   "metadata": {},
   "outputs": [],
   "source": [
    "print(\"svm accuracy score:\", accuracy_score(label_test,y_pred_class))"
   ]
  },
  {
   "cell_type": "code",
   "execution_count": null,
   "id": "8cb2a01d-2032-4fb9-956f-240ddade590f",
   "metadata": {},
   "outputs": [],
   "source": [
    "print(\"svm accuracy score:\", f1_score(label_test,y_pred_class,average=\"weighted\"))"
   ]
  },
  {
   "cell_type": "code",
   "execution_count": null,
   "id": "2d5da35d-755c-4147-80c9-56722b22320d",
   "metadata": {},
   "outputs": [],
   "source": [
    "len(label_test)"
   ]
  },
  {
   "cell_type": "code",
   "execution_count": null,
   "id": "68b85faa-50f2-435d-b8a8-20ea106b19ac",
   "metadata": {},
   "outputs": [],
   "source": [
    "800*0.98"
   ]
  },
  {
   "cell_type": "code",
   "execution_count": null,
   "id": "61d65ff6-d8a2-4eaa-a960-f138a391bf5b",
   "metadata": {},
   "outputs": [],
   "source": [
    "#!pip install matplotlib"
   ]
  },
  {
   "cell_type": "code",
   "execution_count": null,
   "id": "436296b3-2124-4c32-87d5-623f376920b1",
   "metadata": {},
   "outputs": [],
   "source": [
    "import matplotlib.pyplot as plt\n",
    "cm = confusion_matrix(label_test,y_pred_class, labels=svm.classes_)\n",
    "disp = ConfusionMatrixDisplay(confusion_matrix=cm, display_labels=svm.classes_)\n",
    "disp.plot()"
   ]
  },
  {
   "cell_type": "code",
   "execution_count": null,
   "id": "e4c094cb-4d2a-42c2-9558-186eeb118da9",
   "metadata": {},
   "outputs": [],
   "source": [
    "#örnek veri testi\n",
    "msg_test_2=[\"Ben biraz kötü gibiyim\"]\n",
    "y_pred_class = svm.predict(msg_test_2)\n",
    "y_pred_class"
   ]
  },
  {
   "cell_type": "code",
   "execution_count": null,
   "id": "c07fb5d2-3fd3-4086-86b2-6ec58b2ac6c6",
   "metadata": {},
   "outputs": [],
   "source": [
    "model = Word2Vec.load(\"data/word2vec.model\")\n",
    "model.build_vocab(df[\"Text_2\"].tolist(),update=True)\n",
    "model.save(\"data/word2vec.model\")"
   ]
  },
  {
   "cell_type": "code",
   "execution_count": null,
   "id": "ca86887f-e021-4e73-a8e7-9e8d5959494e",
   "metadata": {},
   "outputs": [],
   "source": [
    "df[\"word2vec\"] = df[\"Text_2\"].apply(on_islem.word2vec)"
   ]
  },
  {
   "cell_type": "code",
   "execution_count": null,
   "id": "12cf2005-6304-46e3-a3b9-e5064bee58dc",
   "metadata": {},
   "outputs": [],
   "source": [
    "df.head()"
   ]
  },
  {
   "cell_type": "code",
   "execution_count": null,
   "id": "cac2d29f-f9e4-44e0-8126-7b612e7bb75b",
   "metadata": {},
   "outputs": [],
   "source": [
    "msg_train, msg_test, label_train, label_test = train_test_split(df[\"word2vec\"].tolist(), df[\"Label\"].tolist(), test_size=0.2, random_state=42)\n",
    "svm = Pipeline([('svm',LinearSVC())])\n",
    "svm.fit(msg_train,label_train)\n",
    "y_pred_class = svm.predict(msg_test)\n",
    "\n",
    "print(\"svm accuracy score:\", accuracy_score(label_test,y_pred_class))\n",
    "print(\"svm accuracy score:\", f1_score(label_test,y_pred_class,average=\"weighted\"))"
   ]
  },
  {
   "cell_type": "code",
   "execution_count": null,
   "id": "9d6d7b94-dc29-4458-b6fd-d335b4796d5b",
   "metadata": {},
   "outputs": [],
   "source": [
    "cm = confusion_matrix(label_test,y_pred_class, labels=svm.classes_)\n",
    "disp = ConfusionMatrixDisplay(confusion_matrix=cm, display_labels=svm.classes_)\n",
    "disp.plot()"
   ]
  },
  {
   "cell_type": "code",
   "execution_count": null,
   "id": "ad91f04f-e633-47ea-b5e4-e0f46a2d24f7",
   "metadata": {},
   "outputs": [],
   "source": [
    "df.head()"
   ]
  },
  {
   "cell_type": "code",
   "execution_count": null,
   "id": "c4436dbc-6d19-4b66-81a0-74874bbbdaa3",
   "metadata": {},
   "outputs": [],
   "source": [
    "msg_train, msg_test, label_train, label_test = train_test_split(df[\"word2vec\"].tolist(), df[\"Label\"].tolist(), test_size=0.2, random_state=42)\n",
    "knn = Pipeline([('knn',KNeighborsClassifier())])\n",
    "knn.fit(msg_train,label_train)\n",
    "y_pred_class = knn.predict(msg_test)\n",
    "\n",
    "print(\"knn accuracy score:\", accuracy_score(label_test,y_pred_class))\n",
    "print(\"knn accuracy score:\", f1_score(label_test,y_pred_class,average=\"weighted\"))"
   ]
  },
  {
   "cell_type": "code",
   "execution_count": null,
   "id": "51ccb495-1c6c-4e94-b7ff-2cd775b1e45f",
   "metadata": {},
   "outputs": [],
   "source": []
  },
  {
   "cell_type": "code",
   "execution_count": null,
   "id": "dee72ad8-b004-427f-8eeb-29639f8c3096",
   "metadata": {},
   "outputs": [],
   "source": []
  }
 ],
 "metadata": {
  "kernelspec": {
   "display_name": "Python 3 (ipykernel)",
   "language": "python",
   "name": "python3"
  },
  "language_info": {
   "codemirror_mode": {
    "name": "ipython",
    "version": 3
   },
   "file_extension": ".py",
   "mimetype": "text/x-python",
   "name": "python",
   "nbconvert_exporter": "python",
   "pygments_lexer": "ipython3",
   "version": "3.10.10"
  }
 },
 "nbformat": 4,
 "nbformat_minor": 5
}
