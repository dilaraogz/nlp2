{
 "cells": [
  {
   "cell_type": "markdown",
   "id": "1db4dac9-5080-4779-8f0a-e7f08981d48e",
   "metadata": {},
   "source": [
    "Metin Sınıflandırma"
   ]
  },
  {
   "cell_type": "code",
   "execution_count": 14,
   "id": "50ae4867-58c6-4917-8836-de99873e9936",
   "metadata": {},
   "outputs": [],
   "source": [
    "import pandas as pd\n",
    "import on_islem"
   ]
  },
  {
   "cell_type": "code",
   "execution_count": 13,
   "id": "8b0261ca-db09-4984-b71c-38ea80439fd9",
   "metadata": {},
   "outputs": [
    {
     "data": {
      "text/html": [
       "<div>\n",
       "<style scoped>\n",
       "    .dataframe tbody tr th:only-of-type {\n",
       "        vertical-align: middle;\n",
       "    }\n",
       "\n",
       "    .dataframe tbody tr th {\n",
       "        vertical-align: top;\n",
       "    }\n",
       "\n",
       "    .dataframe thead th {\n",
       "        text-align: right;\n",
       "    }\n",
       "</style>\n",
       "<table border=\"1\" class=\"dataframe\">\n",
       "  <thead>\n",
       "    <tr style=\"text-align: right;\">\n",
       "      <th></th>\n",
       "      <th>Text</th>\n",
       "      <th>Label</th>\n",
       "      <th>Text_2</th>\n",
       "      <th>Text_3</th>\n",
       "    </tr>\n",
       "  </thead>\n",
       "  <tbody>\n",
       "    <tr>\n",
       "      <th>0</th>\n",
       "      <td>Allah'ım çıldıracağım. Yemin ederim çıldıracağ...</td>\n",
       "      <td>kızgın</td>\n",
       "      <td>[allah, çıldıracağım, ye, eder, çıldıracak, si...</td>\n",
       "      <td>allah çıldıracağım ye eder çıldıracak sinirimd...</td>\n",
       "    </tr>\n",
       "    <tr>\n",
       "      <th>1</th>\n",
       "      <td>site ne zaman çalıştıda ürün stokları bitti di...</td>\n",
       "      <td>kızgın</td>\n",
       "      <td>[si, ne, zama, çalıştı, ür, stok, bit, diyor, ...</td>\n",
       "      <td>si ne zama çalıştı ür stok bit diyor mal mı oğ...</td>\n",
       "    </tr>\n",
       "    <tr>\n",
       "      <th>2</th>\n",
       "      <td>Sebebi neydi ki diye bağıracağım şimdi az kaldı</td>\n",
       "      <td>kızgın</td>\n",
       "      <td>[sebep, ne, ki, di, bağıracak, az, kal]</td>\n",
       "      <td>sebep ne ki di bağıracak az kal</td>\n",
       "    </tr>\n",
       "    <tr>\n",
       "      <th>3</th>\n",
       "      <td>Black friday ne amk bu yıl çıkardınız bu bokud...</td>\n",
       "      <td>kızgın</td>\n",
       "      <td>[black, friday, ne, amk, bu, yıl, çıkar, bu, b...</td>\n",
       "      <td>black friday ne amk bu yıl çıkar bu boku mal m...</td>\n",
       "    </tr>\n",
       "    <tr>\n",
       "      <th>4</th>\n",
       "      <td>kısa kısa cevaplar vericeksen niye yazıyorsun ...</td>\n",
       "      <td>kızgın</td>\n",
       "      <td>[kıs, kıs, cevap, vericek, ni, yazıyor, gerize...</td>\n",
       "      <td>kıs kıs cevap vericek ni yazıyor gerizekal</td>\n",
       "    </tr>\n",
       "  </tbody>\n",
       "</table>\n",
       "</div>"
      ],
      "text/plain": [
       "                                                Text   Label   \n",
       "0  Allah'ım çıldıracağım. Yemin ederim çıldıracağ...  kızgın  \\\n",
       "1  site ne zaman çalıştıda ürün stokları bitti di...  kızgın   \n",
       "2    Sebebi neydi ki diye bağıracağım şimdi az kaldı  kızgın   \n",
       "3  Black friday ne amk bu yıl çıkardınız bu bokud...  kızgın   \n",
       "4  kısa kısa cevaplar vericeksen niye yazıyorsun ...  kızgın   \n",
       "\n",
       "                                              Text_2   \n",
       "0  [allah, çıldıracağım, ye, eder, çıldıracak, si...  \\\n",
       "1  [si, ne, zama, çalıştı, ür, stok, bit, diyor, ...   \n",
       "2            [sebep, ne, ki, di, bağıracak, az, kal]   \n",
       "3  [black, friday, ne, amk, bu, yıl, çıkar, bu, b...   \n",
       "4  [kıs, kıs, cevap, vericek, ni, yazıyor, gerize...   \n",
       "\n",
       "                                              Text_3  \n",
       "0  allah çıldıracağım ye eder çıldıracak sinirimd...  \n",
       "1  si ne zama çalıştı ür stok bit diyor mal mı oğ...  \n",
       "2                    sebep ne ki di bağıracak az kal  \n",
       "3  black friday ne amk bu yıl çıkar bu boku mal m...  \n",
       "4         kıs kıs cevap vericek ni yazıyor gerizekal  "
      ]
     },
     "execution_count": 13,
     "metadata": {},
     "output_type": "execute_result"
    }
   ],
   "source": [
    "df = pd.read_csv(\"data/metin_siniflandirma.csv\", index_col=0)\n",
    "df[\"Text_2\"] = df[\"Text\"].apply(on_islem.pre_processing)\n",
    "df[\"Text_2\"] = df[\"Text_2\"].apply(on_islem.remove_space)\n",
    "df[\"Text_3\"] = [' '.join(wrd for wrd in x)for x in df[\"Text_2\"]]\n",
    "\n",
    "df_index = df[df[\"Text_2\"].str[0].isnull()].index\n",
    "df = df.drop(df_index)\n",
    "df = df.reset_index()\n",
    "del df[\"index\"]\n",
    "df.head()"
   ]
  },
  {
   "cell_type": "code",
   "execution_count": 15,
   "id": "78049b81-5d6b-4f18-ac02-1f5a667fcd2d",
   "metadata": {},
   "outputs": [
    {
     "data": {
      "text/plain": [
       "Label\n",
       "korku      800\n",
       "kızgın     799\n",
       "mutlu      800\n",
       "surpriz    800\n",
       "üzgün      799\n",
       "dtype: int64"
      ]
     },
     "execution_count": 15,
     "metadata": {},
     "output_type": "execute_result"
    }
   ],
   "source": [
    "df.groupby(\"Label\").size()"
   ]
  },
  {
   "cell_type": "code",
   "execution_count": 20,
   "id": "24d7e26c-5898-4a23-926d-34b7eac6e62b",
   "metadata": {},
   "outputs": [],
   "source": [
    "from sklearn.model_selection import train_test_split"
   ]
  },
  {
   "cell_type": "code",
   "execution_count": 24,
   "id": "baeecac3-0faf-43aa-94b4-97308fb9040f",
   "metadata": {},
   "outputs": [],
   "source": [
    "msg_train,msg_test,label_train,label_test =train_test_split(df[\"Text_3\"].tolist(), df[\"Label\"].tolist(), test_size=0.2, random_state=42)"
   ]
  },
  {
   "cell_type": "code",
   "execution_count": 25,
   "id": "80a1479b-e925-4b07-b213-3559dd04006e",
   "metadata": {},
   "outputs": [
    {
     "data": {
      "text/plain": [
       "800"
      ]
     },
     "execution_count": 25,
     "metadata": {},
     "output_type": "execute_result"
    }
   ],
   "source": [
    "len(msg_test)"
   ]
  },
  {
   "cell_type": "code",
   "execution_count": 27,
   "id": "58ef6c8e-c93d-42df-9fac-a2849c0cc40a",
   "metadata": {},
   "outputs": [
    {
     "data": {
      "text/plain": [
       "3198"
      ]
     },
     "execution_count": 27,
     "metadata": {},
     "output_type": "execute_result"
    }
   ],
   "source": [
    "len(msg_train)\n"
   ]
  },
  {
   "cell_type": "code",
   "execution_count": 28,
   "id": "3353a642-4ef8-428f-984f-de2870640bb4",
   "metadata": {},
   "outputs": [
    {
     "data": {
      "text/plain": [
       "3198"
      ]
     },
     "execution_count": 28,
     "metadata": {},
     "output_type": "execute_result"
    }
   ],
   "source": [
    "len(label_train)"
   ]
  },
  {
   "cell_type": "code",
   "execution_count": 29,
   "id": "acc9ce15-4713-41f0-966c-21490ad1a602",
   "metadata": {},
   "outputs": [
    {
     "data": {
      "text/plain": [
       "800"
      ]
     },
     "execution_count": 29,
     "metadata": {},
     "output_type": "execute_result"
    }
   ],
   "source": [
    "len(label_test)"
   ]
  },
  {
   "cell_type": "code",
   "execution_count": 30,
   "id": "b8996713-f977-4b8b-a42c-b65773e33c06",
   "metadata": {},
   "outputs": [
    {
     "data": {
      "text/plain": [
       "Label\n",
       "korku      164\n",
       "kızgın     169\n",
       "mutlu      160\n",
       "surpriz    155\n",
       "üzgün      152\n",
       "dtype: int64"
      ]
     },
     "execution_count": 30,
     "metadata": {},
     "output_type": "execute_result"
    }
   ],
   "source": [
    "df_test = pd.DataFrame({\"Text\":msg_test, \"Label\":label_test})\n",
    "df_test.groupby(\"Label\").size()"
   ]
  },
  {
   "cell_type": "code",
   "execution_count": null,
   "id": "e9a306a1-33c9-4299-95d5-8c4fe98ccf95",
   "metadata": {},
   "outputs": [],
   "source": []
  }
 ],
 "metadata": {
  "kernelspec": {
   "display_name": "Python 3 (ipykernel)",
   "language": "python",
   "name": "python3"
  },
  "language_info": {
   "codemirror_mode": {
    "name": "ipython",
    "version": 3
   },
   "file_extension": ".py",
   "mimetype": "text/x-python",
   "name": "python",
   "nbconvert_exporter": "python",
   "pygments_lexer": "ipython3",
   "version": "3.10.10"
  }
 },
 "nbformat": 4,
 "nbformat_minor": 5
}
