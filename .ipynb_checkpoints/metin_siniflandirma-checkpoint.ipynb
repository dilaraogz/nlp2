{
 "cells": [
  {
   "cell_type": "markdown",
   "id": "1db4dac9-5080-4779-8f0a-e7f08981d48e",
   "metadata": {},
   "source": [
    "Metin Sınıflandırma"
   ]
  },
  {
   "cell_type": "code",
   "execution_count": 1,
   "id": "50ae4867-58c6-4917-8836-de99873e9936",
   "metadata": {},
   "outputs": [],
   "source": [
    "import pandas as pd\n",
    "import matplotlib.pyplot as plt\n",
    "import on_islem\n",
    "from sklearn.model_selection import train_test_split\n",
    "from sklearn.svm import LinearSVC\n",
    "from sklearn.pipeline import Pipeline\n",
    "from sklearn.feature_extraction.text import TfidfVectorizer\n",
    "from sklearn.metrics import f1_score, accuracy_score, ConfusionMatrixDisplay, confusion_matrix\n",
    "from gensim.models import Word2Vec\n",
    "from sklearn.neighbors import KNeighborsClassifier\n"
   ]
  },
  {
   "cell_type": "code",
   "execution_count": 2,
   "id": "8b0261ca-db09-4984-b71c-38ea80439fd9",
   "metadata": {},
   "outputs": [
    {
     "data": {
      "text/html": [
       "<div>\n",
       "<style scoped>\n",
       "    .dataframe tbody tr th:only-of-type {\n",
       "        vertical-align: middle;\n",
       "    }\n",
       "\n",
       "    .dataframe tbody tr th {\n",
       "        vertical-align: top;\n",
       "    }\n",
       "\n",
       "    .dataframe thead th {\n",
       "        text-align: right;\n",
       "    }\n",
       "</style>\n",
       "<table border=\"1\" class=\"dataframe\">\n",
       "  <thead>\n",
       "    <tr style=\"text-align: right;\">\n",
       "      <th></th>\n",
       "      <th>Text</th>\n",
       "      <th>Label</th>\n",
       "      <th>Text_2</th>\n",
       "      <th>Text_3</th>\n",
       "    </tr>\n",
       "  </thead>\n",
       "  <tbody>\n",
       "    <tr>\n",
       "      <th>0</th>\n",
       "      <td>Allah'ım çıldıracağım. Yemin ederim çıldıracağ...</td>\n",
       "      <td>kızgın</td>\n",
       "      <td>[allah', çıldıracağım., ye, eder, çıldıracak, ...</td>\n",
       "      <td>allah' çıldıracağım. ye eder çıldıracak siniri...</td>\n",
       "    </tr>\n",
       "    <tr>\n",
       "      <th>1</th>\n",
       "      <td>site ne zaman çalıştıda ürün stokları bitti di...</td>\n",
       "      <td>kızgın</td>\n",
       "      <td>[si, zama, çalıştı, ür, stok, bit, diyor, mal,...</td>\n",
       "      <td>si zama çalıştı ür stok bit diyor mal oğl kand...</td>\n",
       "    </tr>\n",
       "    <tr>\n",
       "      <th>2</th>\n",
       "      <td>Sebebi neydi ki diye bağıracağım şimdi az kaldı</td>\n",
       "      <td>kızgın</td>\n",
       "      <td>[sebep, di, bağıracak, kal]</td>\n",
       "      <td>sebep di bağıracak kal</td>\n",
       "    </tr>\n",
       "    <tr>\n",
       "      <th>3</th>\n",
       "      <td>Black friday ne amk bu yıl çıkardınız bu bokud...</td>\n",
       "      <td>kızgın</td>\n",
       "      <td>[black, friday, amk, yıl, çıkar, boku, mal, ne...</td>\n",
       "      <td>black friday amk yıl çıkar boku mal nesiniz.</td>\n",
       "    </tr>\n",
       "    <tr>\n",
       "      <th>4</th>\n",
       "      <td>kısa kısa cevaplar vericeksen niye yazıyorsun ...</td>\n",
       "      <td>kızgın</td>\n",
       "      <td>[kıs, kıs, cevap, vericek, ni, yazıyor, gerize...</td>\n",
       "      <td>kıs kıs cevap vericek ni yazıyor gerizekal</td>\n",
       "    </tr>\n",
       "  </tbody>\n",
       "</table>\n",
       "</div>"
      ],
      "text/plain": [
       "                                                Text   Label   \n",
       "0  Allah'ım çıldıracağım. Yemin ederim çıldıracağ...  kızgın  \\\n",
       "1  site ne zaman çalıştıda ürün stokları bitti di...  kızgın   \n",
       "2    Sebebi neydi ki diye bağıracağım şimdi az kaldı  kızgın   \n",
       "3  Black friday ne amk bu yıl çıkardınız bu bokud...  kızgın   \n",
       "4  kısa kısa cevaplar vericeksen niye yazıyorsun ...  kızgın   \n",
       "\n",
       "                                              Text_2   \n",
       "0  [allah', çıldıracağım., ye, eder, çıldıracak, ...  \\\n",
       "1  [si, zama, çalıştı, ür, stok, bit, diyor, mal,...   \n",
       "2                        [sebep, di, bağıracak, kal]   \n",
       "3  [black, friday, amk, yıl, çıkar, boku, mal, ne...   \n",
       "4  [kıs, kıs, cevap, vericek, ni, yazıyor, gerize...   \n",
       "\n",
       "                                              Text_3  \n",
       "0  allah' çıldıracağım. ye eder çıldıracak siniri...  \n",
       "1  si zama çalıştı ür stok bit diyor mal oğl kand...  \n",
       "2                             sebep di bağıracak kal  \n",
       "3       black friday amk yıl çıkar boku mal nesiniz.  \n",
       "4         kıs kıs cevap vericek ni yazıyor gerizekal  "
      ]
     },
     "execution_count": 2,
     "metadata": {},
     "output_type": "execute_result"
    }
   ],
   "source": [
    "df = pd.read_csv(\"data/metin_siniflandirma.csv\", index_col=0)\n",
    "df[\"Text_2\"] = df[\"Text\"].apply(on_islem.pre_processing)\n",
    "df[\"Text_2\"] = df[\"Text_2\"].apply(on_islem.remove_space)\n",
    "df[\"Text_3\"] = [' '.join(wrd for wrd in x)for x in df[\"Text_2\"]]\n",
    "\n",
    "df_index = df[df[\"Text_2\"].str[0].isnull()].index\n",
    "df = df.drop(df_index)\n",
    "df = df.reset_index()\n",
    "del df[\"index\"]\n",
    "df.head()"
   ]
  },
  {
   "cell_type": "code",
   "execution_count": 3,
   "id": "78049b81-5d6b-4f18-ac02-1f5a667fcd2d",
   "metadata": {},
   "outputs": [
    {
     "data": {
      "text/plain": [
       "Label\n",
       "korku      800\n",
       "kızgın     799\n",
       "mutlu      800\n",
       "surpriz    800\n",
       "üzgün      799\n",
       "dtype: int64"
      ]
     },
     "execution_count": 3,
     "metadata": {},
     "output_type": "execute_result"
    }
   ],
   "source": [
    "df.groupby(\"Label\").size()"
   ]
  },
  {
   "cell_type": "code",
   "execution_count": 5,
   "id": "24d7e26c-5898-4a23-926d-34b7eac6e62b",
   "metadata": {},
   "outputs": [],
   "source": [
    "from sklearn.model_selection import train_test_split"
   ]
  },
  {
   "cell_type": "code",
   "execution_count": 6,
   "id": "baeecac3-0faf-43aa-94b4-97308fb9040f",
   "metadata": {},
   "outputs": [],
   "source": [
    "msg_train,msg_test,label_train,label_test =train_test_split(df[\"Text_3\"].tolist(), df[\"Label\"].tolist(), test_size=0.2, random_state=42)"
   ]
  },
  {
   "cell_type": "code",
   "execution_count": 7,
   "id": "80a1479b-e925-4b07-b213-3559dd04006e",
   "metadata": {},
   "outputs": [
    {
     "data": {
      "text/plain": [
       "800"
      ]
     },
     "execution_count": 7,
     "metadata": {},
     "output_type": "execute_result"
    }
   ],
   "source": [
    "len(msg_test)"
   ]
  },
  {
   "cell_type": "code",
   "execution_count": 8,
   "id": "58ef6c8e-c93d-42df-9fac-a2849c0cc40a",
   "metadata": {},
   "outputs": [
    {
     "data": {
      "text/plain": [
       "3198"
      ]
     },
     "execution_count": 8,
     "metadata": {},
     "output_type": "execute_result"
    }
   ],
   "source": [
    "len(msg_train)\n"
   ]
  },
  {
   "cell_type": "code",
   "execution_count": 9,
   "id": "3353a642-4ef8-428f-984f-de2870640bb4",
   "metadata": {},
   "outputs": [
    {
     "data": {
      "text/plain": [
       "3198"
      ]
     },
     "execution_count": 9,
     "metadata": {},
     "output_type": "execute_result"
    }
   ],
   "source": [
    "len(label_train)"
   ]
  },
  {
   "cell_type": "code",
   "execution_count": 10,
   "id": "acc9ce15-4713-41f0-966c-21490ad1a602",
   "metadata": {},
   "outputs": [
    {
     "data": {
      "text/plain": [
       "800"
      ]
     },
     "execution_count": 10,
     "metadata": {},
     "output_type": "execute_result"
    }
   ],
   "source": [
    "len(label_test)"
   ]
  },
  {
   "cell_type": "code",
   "execution_count": 11,
   "id": "b8996713-f977-4b8b-a42c-b65773e33c06",
   "metadata": {},
   "outputs": [
    {
     "data": {
      "text/plain": [
       "Label\n",
       "korku      164\n",
       "kızgın     169\n",
       "mutlu      160\n",
       "surpriz    155\n",
       "üzgün      152\n",
       "dtype: int64"
      ]
     },
     "execution_count": 11,
     "metadata": {},
     "output_type": "execute_result"
    }
   ],
   "source": [
    "df_test = pd.DataFrame({\"Text\":msg_test, \"Label\":label_test})\n",
    "df_test.groupby(\"Label\").size()"
   ]
  },
  {
   "cell_type": "code",
   "execution_count": 12,
   "id": "e9a306a1-33c9-4299-95d5-8c4fe98ccf95",
   "metadata": {},
   "outputs": [],
   "source": [
    "from sklearn.feature_extraction.text import TfidfVectorizer\n",
    "from sklearn.svm import LinearSVC\n",
    "from sklearn.pipeline import Pipeline"
   ]
  },
  {
   "cell_type": "code",
   "execution_count": 13,
   "id": "22b8a22e-19bb-4e15-bd84-07a0c6e18a10",
   "metadata": {},
   "outputs": [],
   "source": [
    "svm = Pipeline([('vect', TfidfVectorizer()), ('svm', LinearSVC())])"
   ]
  },
  {
   "cell_type": "code",
   "execution_count": 14,
   "id": "a5220cbe-85e9-45c8-8923-e4b28417e40a",
   "metadata": {},
   "outputs": [],
   "source": [
    "svm.fit(msg_train,label_train)\n",
    "y_pred_class=svm.predict(msg_test)\n"
   ]
  },
  {
   "cell_type": "code",
   "execution_count": 15,
   "id": "ab6b9a0c-4779-4c78-bf69-8eeecc33fe3c",
   "metadata": {},
   "outputs": [],
   "source": [
    "from sklearn.metrics import f1_score,accuracy_score"
   ]
  },
  {
   "cell_type": "code",
   "execution_count": 16,
   "id": "34c9a44c-6156-475f-9556-ed43208978ab",
   "metadata": {},
   "outputs": [
    {
     "name": "stdout",
     "output_type": "stream",
     "text": [
      "svm accuracy score: 0.98\n"
     ]
    }
   ],
   "source": [
    "print(\"svm accuracy score:\", accuracy_score(label_test,y_pred_class))"
   ]
  },
  {
   "cell_type": "code",
   "execution_count": 17,
   "id": "8cb2a01d-2032-4fb9-956f-240ddade590f",
   "metadata": {},
   "outputs": [
    {
     "name": "stdout",
     "output_type": "stream",
     "text": [
      "svm accuracy score: 0.9800012002533918\n"
     ]
    }
   ],
   "source": [
    "print(\"svm accuracy score:\", f1_score(label_test,y_pred_class,average=\"weighted\"))"
   ]
  },
  {
   "cell_type": "code",
   "execution_count": 18,
   "id": "2d5da35d-755c-4147-80c9-56722b22320d",
   "metadata": {},
   "outputs": [
    {
     "data": {
      "text/plain": [
       "800"
      ]
     },
     "execution_count": 18,
     "metadata": {},
     "output_type": "execute_result"
    }
   ],
   "source": [
    "len(label_test)"
   ]
  },
  {
   "cell_type": "code",
   "execution_count": 19,
   "id": "68b85faa-50f2-435d-b8a8-20ea106b19ac",
   "metadata": {},
   "outputs": [
    {
     "data": {
      "text/plain": [
       "784.0"
      ]
     },
     "execution_count": 19,
     "metadata": {},
     "output_type": "execute_result"
    }
   ],
   "source": [
    "800*0.98"
   ]
  },
  {
   "cell_type": "code",
   "execution_count": 24,
   "id": "61d65ff6-d8a2-4eaa-a960-f138a391bf5b",
   "metadata": {},
   "outputs": [
    {
     "name": "stdout",
     "output_type": "stream",
     "text": [
      "Requirement already satisfied: matplotlib in c:\\users\\90543\\appdata\\local\\programs\\python\\python310\\lib\\site-packages (3.7.1)\n",
      "Requirement already satisfied: contourpy>=1.0.1 in c:\\users\\90543\\appdata\\local\\programs\\python\\python310\\lib\\site-packages (from matplotlib) (1.0.7)\n",
      "Requirement already satisfied: cycler>=0.10 in c:\\users\\90543\\appdata\\local\\programs\\python\\python310\\lib\\site-packages (from matplotlib) (0.11.0)\n",
      "Requirement already satisfied: fonttools>=4.22.0 in c:\\users\\90543\\appdata\\local\\programs\\python\\python310\\lib\\site-packages (from matplotlib) (4.39.4)\n",
      "Requirement already satisfied: kiwisolver>=1.0.1 in c:\\users\\90543\\appdata\\local\\programs\\python\\python310\\lib\\site-packages (from matplotlib) (1.4.4)\n",
      "Requirement already satisfied: numpy>=1.20 in c:\\users\\90543\\appdata\\local\\programs\\python\\python310\\lib\\site-packages (from matplotlib) (1.24.3)\n",
      "Requirement already satisfied: packaging>=20.0 in c:\\users\\90543\\appdata\\local\\programs\\python\\python310\\lib\\site-packages (from matplotlib) (23.1)\n",
      "Requirement already satisfied: pillow>=6.2.0 in c:\\users\\90543\\appdata\\local\\programs\\python\\python310\\lib\\site-packages (from matplotlib) (9.5.0)\n",
      "Requirement already satisfied: pyparsing>=2.3.1 in c:\\users\\90543\\appdata\\local\\programs\\python\\python310\\lib\\site-packages (from matplotlib) (3.0.9)\n",
      "Requirement already satisfied: python-dateutil>=2.7 in c:\\users\\90543\\appdata\\local\\programs\\python\\python310\\lib\\site-packages (from matplotlib) (2.8.2)\n",
      "Requirement already satisfied: six>=1.5 in c:\\users\\90543\\appdata\\local\\programs\\python\\python310\\lib\\site-packages (from python-dateutil>=2.7->matplotlib) (1.16.0)\n"
     ]
    }
   ],
   "source": [
    "!pip install matplotlib"
   ]
  },
  {
   "cell_type": "code",
   "execution_count": 27,
   "id": "436296b3-2124-4c32-87d5-623f376920b1",
   "metadata": {},
   "outputs": [
    {
     "ename": "ModuleNotFoundError",
     "evalue": "No module named 'matplotlib'",
     "output_type": "error",
     "traceback": [
      "\u001b[1;31m---------------------------------------------------------------------------\u001b[0m",
      "\u001b[1;31mModuleNotFoundError\u001b[0m                       Traceback (most recent call last)",
      "Cell \u001b[1;32mIn[27], line 1\u001b[0m\n\u001b[1;32m----> 1\u001b[0m \u001b[38;5;28;01mimport\u001b[39;00m \u001b[38;5;21;01mmatplotlib\u001b[39;00m\u001b[38;5;21;01m.\u001b[39;00m\u001b[38;5;21;01mpyplot\u001b[39;00m \u001b[38;5;28;01mas\u001b[39;00m \u001b[38;5;21;01mplt\u001b[39;00m\n\u001b[0;32m      2\u001b[0m cm \u001b[38;5;241m=\u001b[39m confusion_matrix(label_test,y_pred_class, labels\u001b[38;5;241m=\u001b[39msvm\u001b[38;5;241m.\u001b[39mclasses_)\n\u001b[0;32m      3\u001b[0m disp \u001b[38;5;241m=\u001b[39m ConfusionMatrixDisplay(confusion_matrix\u001b[38;5;241m=\u001b[39mcm, display_labels\u001b[38;5;241m=\u001b[39msvm\u001b[38;5;241m.\u001b[39mclasses_)\n",
      "\u001b[1;31mModuleNotFoundError\u001b[0m: No module named 'matplotlib'"
     ]
    }
   ],
   "source": [
    "import matplotlib.pyplot as plt\n",
    "cm = confusion_matrix(label_test,y_pred_class, labels=svm.classes_)\n",
    "disp = ConfusionMatrixDisplay(confusion_matrix=cm, display_labels=svm.classes_)\n",
    "disp.plot()"
   ]
  },
  {
   "cell_type": "code",
   "execution_count": null,
   "id": "e4c094cb-4d2a-42c2-9558-186eeb118da9",
   "metadata": {},
   "outputs": [],
   "source": [
    "#örnek veri testi\n",
    "msg_test_2=[\"Ben biraz kötü gibiyim\"]\n",
    "y_pred_class = svm.predict(msg_test_2)\n",
    "y_pred_class"
   ]
  },
  {
   "cell_type": "code",
   "execution_count": null,
   "id": "cac2d29f-f9e4-44e0-8126-7b612e7bb75b",
   "metadata": {},
   "outputs": [],
   "source": []
  }
 ],
 "metadata": {
  "kernelspec": {
   "display_name": "Python 3 (ipykernel)",
   "language": "python",
   "name": "python3"
  },
  "language_info": {
   "codemirror_mode": {
    "name": "ipython",
    "version": 3
   },
   "file_extension": ".py",
   "mimetype": "text/x-python",
   "name": "python",
   "nbconvert_exporter": "python",
   "pygments_lexer": "ipython3",
   "version": "3.10.10"
  }
 },
 "nbformat": 4,
 "nbformat_minor": 5
}
